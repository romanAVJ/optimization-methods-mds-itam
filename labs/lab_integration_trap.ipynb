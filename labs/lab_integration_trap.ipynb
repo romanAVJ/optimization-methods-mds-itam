{
 "cells": [
  {
   "cell_type": "markdown",
   "metadata": {},
   "source": [
    "# Integration via trapezoid method\n",
    "\n",
    "13 sep 2023"
   ]
  },
  {
   "cell_type": "code",
   "execution_count": 33,
   "metadata": {},
   "outputs": [],
   "source": [
    "import numpy as np\n",
    "import scipy\n",
    "import matplotlib.pyplot as plt\n",
    "\n",
    "rng = np.random.default_rng(seed=8)"
   ]
  },
  {
   "cell_type": "code",
   "execution_count": 34,
   "metadata": {},
   "outputs": [],
   "source": [
    "# recursive function\n",
    "def integrate(f, a, b, max_iter=10, eps=1e-4):\n",
    "    # get xsi\n",
    "    xsi = rng.uniform(a, b)\n",
    "\n",
    "    # get y in the line\n",
    "    y = ((f(b)-f(a))/(b-a)) * xsi + (f(b-a) - (f(b)-f(a)))\n",
    "    \n",
    "    # evaluate\n",
    "    if (np.abs(f(xsi) - y) < eps) or (max_iter <= 0) or (b-a < eps):\n",
    "        # return integration\n",
    "        return 0.5*(f(xsi)+f(a))*(xsi-a) + 0.5*(f(b)+f(xsi))*(b-xsi)\n",
    "    else:\n",
    "        plt.plot(np.array([xsi, xsi]), np.array([-0.05, f(xsi)]), 'r')\n",
    "        return integrate(f, a, xsi, max_iter-1, eps) + integrate(f, xsi, b, max_iter-1, eps)\n"
   ]
  },
  {
   "cell_type": "code",
   "execution_count": 31,
   "metadata": {},
   "outputs": [],
   "source": [
    "# try\n",
    "g = lambda x: 1/x\n",
    "int_vale = integrate(g, 1, 10, max_iter=100, eps=1e-3)"
   ]
  },
  {
   "cell_type": "code",
   "execution_count": 63,
   "metadata": {},
   "outputs": [
    {
     "data": {
      "text/plain": [
       "0.0008518226246109542"
      ]
     },
     "execution_count": 63,
     "metadata": {},
     "output_type": "execute_result"
    },
    {
     "data": {
      "image/png": "[encoded data removed]",
      "text/plain": [
       "<Figure size 640x480 with 1 Axes>"
      ]
     },
     "metadata": {},
     "output_type": "display_data"
    }
   ],
   "source": [
    "A = -5\n",
    "B = 5\n",
    "g = lambda x: 1/np.sqrt(np.pi) * np.exp(-x**2)\n",
    "plt.plot(np.array([A, A]), np.array([-0.05, g(A)]), 'k')\n",
    "plt.plot(np.array([B, B]), np.array([-0.05, g(B)]), 'k')\n",
    "integrate(g, A, B, max_iter=10, eps=1e-3)"
   ]
  },
  {
   "cell_type": "code",
   "execution_count": 54,
   "metadata": {},
   "outputs": [
    {
     "data": {
      "text/plain": [
       "3.141592653589793"
      ]
     },
     "execution_count": 54,
     "metadata": {},
     "output_type": "execute_result"
    }
   ],
   "source": [
    "np.pi"
   ]
  },
  {
   "cell_type": "code",
   "execution_count": null,
   "metadata": {},
   "outputs": [],
   "source": []
  }
 ],
 "metadata": {
  "kernelspec": {
   "display_name": "academic-spyder-env",
   "language": "python",
   "name": "python3"
  },
  "language_info": {
   "codemirror_mode": {
    "name": "ipython",
    "version": 3
   },
   "file_extension": ".py",
   "mimetype": "text/x-python",
   "name": "python",
   "nbconvert_exporter": "python",
   "pygments_lexer": "ipython3",
   "version": "3.9.17"
  },
  "orig_nbformat": 4
 },
 "nbformat": 4,
 "nbformat_minor": 2
}
